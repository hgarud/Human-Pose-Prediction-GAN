{
 "cells": [
  {
   "cell_type": "code",
   "execution_count": 1,
   "metadata": {},
   "outputs": [],
   "source": [
    "import numpy as np\n",
    "import pandas as pd\n",
    "from scipy.io import loadmat\n",
    "\n",
    "\n",
    "class MPIIData(object):\n",
    "    def __init__(self, base_dir):\n",
    "        self.base_dir = base_dir\n",
    "        assert self.base_dir[-1] == '/'\n",
    "\n",
    "    def load(self, file):\n",
    "        file = self.base_dir + file\n",
    "        x = loadmat(file, squeeze_me = False)\n",
    "        return x\n"
   ]
  },
  {
   "cell_type": "code",
   "execution_count": 2,
   "metadata": {},
   "outputs": [],
   "source": [
    "if __name__ == '__main__':\n",
    "    x = MPIIData(base_dir = '/home/hrishi/1Hrishi/0Thesis/Data/').load(file = 'mpii_human_pose_v1_u12_1.mat')\n"
   ]
  },
  {
   "cell_type": "code",
   "execution_count": 3,
   "metadata": {},
   "outputs": [
    {
     "name": "stdout",
     "output_type": "stream",
     "text": [
      "__globals__\n",
      "RELEASE\n",
      "__version__\n",
      "__header__\n"
     ]
    }
   ],
   "source": [
    "# Print the keys\n",
    "for k in x.keys():\n",
    "  print(k)"
   ]
  },
  {
   "cell_type": "markdown",
   "metadata": {},
   "source": [
    "## Annotation description\n",
    "Annotations are stored in a matlab structure RELEASE having following fields\n",
    "\n",
    "* ```.annolist(imgidx)``` - annotations for image imgidx\n",
    "\n",
    "    * ```.image.name``` - image filename\n",
    "    * ```.annorect(ridx)``` - body annotations for a person ridx\n",
    "        * ```.x1, .y1, .x2, .y2``` - coordinates of the head rectangle\n",
    "        * ```.scale``` - person scale w.r.t. 200 px height\n",
    "        * ```.objpos``` - rough human position in the image\n",
    "        * ```.annopoints.point``` - person-centric body joint annotations\n",
    "            * ```.x, .y``` - coordinates of a joint\n",
    "            * ```id``` - joint id (0 - r ankle, 1 - r knee, 2 - r hip, 3 - l hip, 4 - l knee, 5 - l ankle, 6 - pelvis, 7 - thorax, 8 - upper neck, 9 - head top, 10 - r wrist, 11 - r elbow, 12 - r shoulder, 13 - l shoulder, 14 - l elbow, 15 - l wrist)\n",
    "            * ```is_visible``` - joint visibility\n",
    "    * ```.vidx``` - video index in video_list\n",
    "    * ```.frame_sec``` - image position in video, in seconds\n",
    "* ```img_train(imgidx)``` - training/testing image assignment\n",
    "* ```single_person(imgidx)``` - contains rectangle id ridx of sufficiently separated individuals\n",
    "* ```act(imgidx)``` - activity/category label for image imgidx\n",
    "    * ```act_name``` - activity name\n",
    "    * ```cat_name``` - category name\n",
    "    * ```act_id``` - activity id\n",
    "* ```video_list(videoidx)``` - specifies video id as is provided by YouTube. To watch video on youtube go to https://www.youtube.com/watch?v=video_list(videoidx)\n"
   ]
  },
  {
   "cell_type": "code",
   "execution_count": 4,
   "metadata": {},
   "outputs": [
    {
     "data": {
      "text/plain": [
       "('annolist', 'img_train', 'version', 'single_person', 'act', 'video_list')"
      ]
     },
     "execution_count": 4,
     "metadata": {},
     "output_type": "execute_result"
    }
   ],
   "source": [
    "x['RELEASE'].dtype.names"
   ]
  },
  {
   "cell_type": "code",
   "execution_count": 53,
   "metadata": {},
   "outputs": [
    {
     "name": "stdout",
     "output_type": "stream",
     "text": [
      "Train/test split statistics:\n",
      "Total samples:  24987\n",
      "Training set size:  18079\n",
      "Testing set size:  6908\n",
      "Train percentage:  72.3536238844199\n"
     ]
    }
   ],
   "source": [
    "print(\"Train/test split statistics:\")\n",
    "total_samples = x['RELEASE']['img_train'][0,0][0].shape[0]\n",
    "print(\"Total samples: \", total_samples)\n",
    "num_training = sum(x['RELEASE']['img_train'][0,0][0])\n",
    "print(\"Training set size: \", num_training)\n",
    "print(\"Testing set size: \", total_samples - num_training)\n",
    "print(\"Train percentage: \", num_training*100/total_samples)"
   ]
  },
  {
   "cell_type": "code",
   "execution_count": 93,
   "metadata": {},
   "outputs": [
    {
     "name": "stdout",
     "output_type": "stream",
     "text": [
      "Action Catogory Statistics:\n",
      "Total categories:  19\n"
     ]
    }
   ],
   "source": [
    "print(\"Action Catogory Statistics:\")\n",
    "categories = np.unique(np.unique(x['RELEASE']['act'][0,0]['cat_name']))\n",
    "print(\"Total categories: \", categories.shape[0])\n",
    "# from matplotlib import pyplot as plt\n",
    "# data = np.unique(x['RELEASE']['act'][0,0]['cat_name'])\n",
    "# plt.hist(data, bins=categories, alpha=0.5)"
   ]
  },
  {
   "cell_type": "code",
   "execution_count": 107,
   "metadata": {},
   "outputs": [
    {
     "data": {
      "text/plain": [
       "(1,)"
      ]
     },
     "execution_count": 107,
     "metadata": {},
     "output_type": "execute_result"
    }
   ],
   "source": [
    "np.unique(np.unique(x['RELEASE']['act'][0,0]['cat_name']))[1].shape"
   ]
  },
  {
   "cell_type": "code",
   "execution_count": null,
   "metadata": {},
   "outputs": [],
   "source": [
    "for category in "
   ]
  },
  {
   "cell_type": "code",
   "execution_count": 34,
   "metadata": {},
   "outputs": [
    {
     "data": {
      "text/plain": [
       "array([array([[1]], dtype=uint8)], dtype=object)"
      ]
     },
     "execution_count": 34,
     "metadata": {},
     "output_type": "execute_result"
    }
   ],
   "source": [
    "x['RELEASE']['single_person'][0,0][3]"
   ]
  },
  {
   "cell_type": "code",
   "execution_count": 5,
   "metadata": {},
   "outputs": [
    {
     "data": {
      "text/plain": [
       "(1, 1)"
      ]
     },
     "execution_count": 5,
     "metadata": {},
     "output_type": "execute_result"
    }
   ],
   "source": [
    "x['RELEASE']['annolist'].shape"
   ]
  },
  {
   "cell_type": "code",
   "execution_count": 6,
   "metadata": {},
   "outputs": [
    {
     "data": {
      "text/plain": [
       "(1, 24987)"
      ]
     },
     "execution_count": 6,
     "metadata": {},
     "output_type": "execute_result"
    }
   ],
   "source": [
    "x['RELEASE']['annolist'][0,0].shape"
   ]
  },
  {
   "cell_type": "code",
   "execution_count": 19,
   "metadata": {},
   "outputs": [
    {
     "data": {
      "text/plain": [
       "array([[(array([[(array(['037454012.jpg'], dtype='<U13'),)]], dtype=[('name', 'O')]), array([[(array([[3.88073395]]), array([[(array([[601]], dtype=uint16), array([[380]], dtype=uint16))]],\n",
       "      dtype=[('x', 'O'), ('y', 'O')]))]],\n",
       "      dtype=[('scale', 'O'), ('objpos', 'O')]), array([], shape=(1, 0), dtype=float64), array([], shape=(1, 0), dtype=float64)),\n",
       "        (array([[(array(['095071431.jpg'], dtype='<U13'),)]], dtype=[('name', 'O')]), array([[(array([[8.07816613]]), array([[(array([[881]], dtype=uint16), array([[394]], dtype=uint16))]],\n",
       "      dtype=[('x', 'O'), ('y', 'O')])),\n",
       "        (array([[8.90412938]]), array([[(array([[338]], dtype=uint16), array([[210]], dtype=uint8))]],\n",
       "      dtype=[('x', 'O'), ('y', 'O')]))]],\n",
       "      dtype=[('scale', 'O'), ('objpos', 'O')]), array([], shape=(1, 0), dtype=float64), array([], shape=(1, 0), dtype=float64)),\n",
       "        (array([[(array(['073199394.jpg'], dtype='<U13'),)]], dtype=[('name', 'O')]), array([[(array([[4.32666153]]), array([[(array([[619]], dtype=uint16), array([[350]], dtype=uint16))]],\n",
       "      dtype=[('x', 'O'), ('y', 'O')]))]],\n",
       "      dtype=[('scale', 'O'), ('objpos', 'O')]), array([], shape=(1, 0), dtype=float64), array([], shape=(1, 0), dtype=float64)),\n",
       "        ...,\n",
       "        (array([[(array(['084761779.jpg'], dtype='<U13'),)]], dtype=[('name', 'O')]), array([[(array([[287]], dtype=uint16), array([[130]], dtype=uint8), array([[324]], dtype=uint16), array([[163]], dtype=uint8), array([[(array([[(array([[334]], dtype=uint16), array([[225]], dtype=uint8), array([[6]], dtype=uint8), array([[1]], dtype=uint8)),\n",
       "        (array([[312]], dtype=uint16), array([[173]], dtype=uint8), array([[7]], dtype=uint8), array([[1]], dtype=uint8)),\n",
       "        (array([[310.2242]]), array([[165.7604]]), array([[8]], dtype=uint8), array([], shape=(0, 0), dtype=uint8)),\n",
       "        (array([[300.7758]]), array([[127.2396]]), array([[9]], dtype=uint8), array([], shape=(0, 0), dtype=uint8)),\n",
       "        (array([[362]], dtype=uint16), array([[350]], dtype=uint16), array([[0]], dtype=uint8), array([[1]], dtype=uint8)),\n",
       "        (array([[347]], dtype=uint16), array([[297]], dtype=uint16), array([[1]], dtype=uint8), array([[1]], dtype=uint8)),\n",
       "        (array([[350]], dtype=uint16), array([[224]], dtype=uint8), array([[2]], dtype=uint8), array([[1]], dtype=uint8)),\n",
       "        (array([[317]], dtype=uint16), array([[226]], dtype=uint8), array([[3]], dtype=uint8), array([[1]], dtype=uint8)),\n",
       "        (array([[297]], dtype=uint16), array([[290]], dtype=uint16), array([[4]], dtype=uint8), array([[0]], dtype=uint8)),\n",
       "        (array([[336]], dtype=uint16), array([[312]], dtype=uint16), array([[5]], dtype=uint8), array([[1]], dtype=uint8)),\n",
       "        (array([[310]], dtype=uint16), array([[192]], dtype=uint8), array([[10]], dtype=uint8), array([[0]], dtype=uint8)),\n",
       "        (array([[326]], dtype=uint16), array([[186]], dtype=uint8), array([[11]], dtype=uint8), array([[0]], dtype=uint8)),\n",
       "        (array([[335]], dtype=uint16), array([[168]], dtype=uint8), array([[12]], dtype=uint8), array([[1]], dtype=uint8)),\n",
       "        (array([[288]], dtype=uint16), array([[177]], dtype=uint8), array([[13]], dtype=uint8), array([[1]], dtype=uint8)),\n",
       "        (array([[279]], dtype=uint16), array([[199]], dtype=uint8), array([[14]], dtype=uint8), array([[0]], dtype=uint8)),\n",
       "        (array([[268]], dtype=uint16), array([[194]], dtype=uint8), array([[15]], dtype=uint8), array([[0]], dtype=uint8))]],\n",
       "      dtype=[('x', 'O'), ('y', 'O'), ('id', 'O'), ('is_visible', 'O')]),)]],\n",
       "      dtype=[('point', 'O')]), array([[1.1898773]]), array([[(array([[330]], dtype=uint16), array([[208]], dtype=uint8))]],\n",
       "      dtype=[('x', 'O'), ('y', 'O')])),\n",
       "        (array([[333]], dtype=uint16), array([[137]], dtype=uint8), array([[361]], dtype=uint16), array([[162]], dtype=uint8), array([[(array([[(array([[391]], dtype=uint16), array([[221]], dtype=uint8), array([[6]], dtype=uint8), array([[1]], dtype=uint8)),\n",
       "        (array([[365]], dtype=uint16), array([[172]], dtype=uint8), array([[7]], dtype=uint8), array([[0]], dtype=uint8)),\n",
       "        (array([[356.3796]]), array([[161.2245]]), array([[8]], dtype=uint8), array([], shape=(0, 0), dtype=uint8)),\n",
       "        (array([[337.6204]]), array([[137.7755]]), array([[9]], dtype=uint8), array([], shape=(0, 0), dtype=uint8)),\n",
       "        (array([[457]], dtype=uint16), array([[324]], dtype=uint16), array([[0]], dtype=uint8), array([[1]], dtype=uint8)),\n",
       "        (array([[420]], dtype=uint16), array([[282]], dtype=uint16), array([[1]], dtype=uint8), array([[1]], dtype=uint8)),\n",
       "        (array([[403]], dtype=uint16), array([[219]], dtype=uint8), array([[2]], dtype=uint8), array([[1]], dtype=uint8)),\n",
       "        (array([[379]], dtype=uint16), array([[222]], dtype=uint8), array([[3]], dtype=uint8), array([[1]], dtype=uint8)),\n",
       "        (array([[355]], dtype=uint16), array([[267]], dtype=uint16), array([[4]], dtype=uint8), array([[0]], dtype=uint8)),\n",
       "        (array([[379]], dtype=uint16), array([[314]], dtype=uint16), array([[5]], dtype=uint8), array([[1]], dtype=uint8)),\n",
       "        (array([[356]], dtype=uint16), array([[182]], dtype=uint8), array([[10]], dtype=uint8), array([[0]], dtype=uint8)),\n",
       "        (array([[373]], dtype=uint16), array([[186]], dtype=uint8), array([[11]], dtype=uint8), array([[0]], dtype=uint8)),\n",
       "        (array([[380]], dtype=uint16), array([[172]], dtype=uint8), array([[12]], dtype=uint8), array([[0]], dtype=uint8)),\n",
       "        (array([[349]], dtype=uint16), array([[171]], dtype=uint8), array([[13]], dtype=uint8), array([[1]], dtype=uint8)),\n",
       "        (array([[334]], dtype=uint16), array([[193]], dtype=uint8), array([[14]], dtype=uint8), array([[0]], dtype=uint8)),\n",
       "        (array([[319]], dtype=uint16), array([[194]], dtype=uint8), array([[15]], dtype=uint8), array([[0]], dtype=uint8))]],\n",
       "      dtype=[('x', 'O'), ('y', 'O'), ('id', 'O'), ('is_visible', 'O')]),)]],\n",
       "      dtype=[('point', 'O')]), array([[0.90087957]]), array([[(array([[372]], dtype=uint16), array([[216]], dtype=uint8))]],\n",
       "      dtype=[('x', 'O'), ('y', 'O')])),\n",
       "        (array([[400]], dtype=uint16), array([[140]], dtype=uint8), array([[428]], dtype=uint16), array([[168]], dtype=uint8), array([[(array([[(array([[459]], dtype=uint16), array([[224]], dtype=uint8), array([[6]], dtype=uint8), array([[1]], dtype=uint8)),\n",
       "        (array([[418]], dtype=uint16), array([[177]], dtype=uint8), array([[7]], dtype=uint8), array([[0]], dtype=uint8)),\n",
       "        (array([[416.7139]]), array([[169.605]]), array([[8]], dtype=uint8), array([], shape=(0, 0), dtype=uint8)),\n",
       "        (array([[411.2861]]), array([[138.395]]), array([[9]], dtype=uint8), array([], shape=(0, 0), dtype=uint8)),\n",
       "        (array([[483]], dtype=uint16), array([[292]], dtype=uint16), array([[0]], dtype=uint8), array([[0]], dtype=uint8)),\n",
       "        (array([[442]], dtype=uint16), array([[259]], dtype=uint16), array([[1]], dtype=uint8), array([[0]], dtype=uint8)),\n",
       "        (array([[468]], dtype=uint16), array([[221]], dtype=uint8), array([[2]], dtype=uint8), array([[1]], dtype=uint8)),\n",
       "        (array([[449]], dtype=uint16), array([[226]], dtype=uint8), array([[3]], dtype=uint8), array([[1]], dtype=uint8)),\n",
       "        (array([[461]], dtype=uint16), array([[271]], dtype=uint16), array([[4]], dtype=uint8), array([[1]], dtype=uint8)),\n",
       "        (array([[500]], dtype=uint16), array([[315]], dtype=uint16), array([[5]], dtype=uint8), array([[1]], dtype=uint8)),\n",
       "        (array([[411]], dtype=uint16), array([[187]], dtype=uint8), array([[10]], dtype=uint8), array([[0]], dtype=uint8)),\n",
       "        (array([[427]], dtype=uint16), array([[193]], dtype=uint8), array([[11]], dtype=uint8), array([[0]], dtype=uint8)),\n",
       "        (array([[432]], dtype=uint16), array([[175]], dtype=uint8), array([[12]], dtype=uint8), array([[0]], dtype=uint8)),\n",
       "        (array([[403]], dtype=uint16), array([[179]], dtype=uint8), array([[13]], dtype=uint8), array([[1]], dtype=uint8)),\n",
       "        (array([[403]], dtype=uint16), array([[205]], dtype=uint8), array([[14]], dtype=uint8), array([[0]], dtype=uint8)),\n",
       "        (array([[386]], dtype=uint16), array([[198]], dtype=uint8), array([[15]], dtype=uint8), array([[0]], dtype=uint8))]],\n",
       "      dtype=[('x', 'O'), ('y', 'O'), ('id', 'O'), ('is_visible', 'O')]),)]],\n",
       "      dtype=[('point', 'O')]), array([[0.95035151]]), array([[(array([[437]], dtype=uint16), array([[207]], dtype=uint8))]],\n",
       "      dtype=[('x', 'O'), ('y', 'O')])),\n",
       "        (array([[212]], dtype=uint8), array([[153]], dtype=uint8), array([[244]], dtype=uint8), array([[173]], dtype=uint8), array([[(array([[(array([[263]], dtype=uint16), array([[225]], dtype=uint8), array([[6]], dtype=uint8), array([[1]], dtype=uint8)),\n",
       "        (array([[233]], dtype=uint8), array([[179]], dtype=uint8), array([[7]], dtype=uint8), array([[0]], dtype=uint8)),\n",
       "        (array([[232.5023]]), array([[177.4073]]), array([[8]], dtype=uint8), array([], shape=(0, 0), dtype=uint8)),\n",
       "        (array([[223.4977]]), array([[148.5927]]), array([[9]], dtype=uint8), array([], shape=(0, 0), dtype=uint8)),\n",
       "        (array([[280]], dtype=uint16), array([[287]], dtype=uint16), array([[1]], dtype=uint8), array([[1]], dtype=uint8)),\n",
       "        (array([[277]], dtype=uint16), array([[224]], dtype=uint8), array([[2]], dtype=uint8), array([[1]], dtype=uint8)),\n",
       "        (array([[248]], dtype=uint8), array([[225]], dtype=uint8), array([[3]], dtype=uint8), array([[1]], dtype=uint8)),\n",
       "        (array([[222]], dtype=uint8), array([[280]], dtype=uint16), array([[4]], dtype=uint8), array([[1]], dtype=uint8)),\n",
       "        (array([[237]], dtype=uint8), array([[192]], dtype=uint8), array([[10]], dtype=uint8), array([[0]], dtype=uint8)),\n",
       "        (array([[249]], dtype=uint8), array([[193]], dtype=uint8), array([[11]], dtype=uint8), array([[0]], dtype=uint8)),\n",
       "        (array([[251]], dtype=uint8), array([[178]], dtype=uint8), array([[12]], dtype=uint8), array([[0]], dtype=uint8)),\n",
       "        (array([[214]], dtype=uint8), array([[179]], dtype=uint8), array([[13]], dtype=uint8), array([[1]], dtype=uint8)),\n",
       "        (array([[190]], dtype=uint8), array([[202]], dtype=uint8), array([[14]], dtype=uint8), array([[1]], dtype=uint8)),\n",
       "        (array([[190]], dtype=uint8), array([[201]], dtype=uint8), array([[15]], dtype=uint8), array([[0]], dtype=uint8))]],\n",
       "      dtype=[('x', 'O'), ('y', 'O'), ('id', 'O'), ('is_visible', 'O')]),)]],\n",
       "      dtype=[('point', 'O')]), array([[0.90566219]]), array([[(array([[230]], dtype=uint8), array([[216]], dtype=uint8))]],\n",
       "      dtype=[('x', 'O'), ('y', 'O')])),\n",
       "        (array([[0]], dtype=uint8), array([[135]], dtype=uint8), array([[76]], dtype=uint8), array([[216]], dtype=uint8), array([[(array([[(array([[68]], dtype=uint8), array([[416]], dtype=uint16), array([[6]], dtype=uint8), array([[1]], dtype=uint8)),\n",
       "        (array([[107]], dtype=uint8), array([[413]], dtype=uint16), array([[2]], dtype=uint8), array([[1]], dtype=uint8)),\n",
       "        (array([[29]], dtype=uint8), array([[419]], dtype=uint16), array([[3]], dtype=uint8), array([[1]], dtype=uint8)),\n",
       "        (array([[167]], dtype=uint8), array([[342]], dtype=uint16), array([[10]], dtype=uint8), array([[1]], dtype=uint8)),\n",
       "        (array([[132]], dtype=uint8), array([[316]], dtype=uint16), array([[11]], dtype=uint8), array([[1]], dtype=uint8)),\n",
       "        (array([[91]], dtype=uint8), array([[237]], dtype=uint8), array([[12]], dtype=uint8), array([[1]], dtype=uint8))]],\n",
       "      dtype=[('x', 'O'), ('y', 'O'), ('id', 'O'), ('is_visible', 'O')]),)]],\n",
       "      dtype=[('point', 'O')]), array([[2.66572917]]), array([[(array([[62]], dtype=uint8), array([[338]], dtype=uint16))]],\n",
       "      dtype=[('x', 'O'), ('y', 'O')]))]],\n",
       "      dtype=[('x1', 'O'), ('y1', 'O'), ('x2', 'O'), ('y2', 'O'), ('annopoints', 'O'), ('scale', 'O'), ('objpos', 'O')]), array([[158]], dtype=uint8), array([[793]], dtype=uint16)),\n",
       "        (array([[(array(['092025825.jpg'], dtype='<U13'),)]], dtype=[('name', 'O')]), array([[(array([[9.88033684]]), array([[(array([[1224]], dtype=uint16), array([[553]], dtype=uint16))]],\n",
       "      dtype=[('x', 'O'), ('y', 'O')])),\n",
       "        (array([[8.61950903]]), array([[(array([[473]], dtype=uint16), array([[587]], dtype=uint16))]],\n",
       "      dtype=[('x', 'O'), ('y', 'O')]))]],\n",
       "      dtype=[('scale', 'O'), ('objpos', 'O')]), array([], shape=(1, 0), dtype=float64), array([], shape=(1, 0), dtype=float64)),\n",
       "        (array([[(array(['053686627.jpg'], dtype='<U13'),)]], dtype=[('name', 'O')]), array([[(array([[8.84412212]]), array([[(array([[1277]], dtype=uint16), array([[681]], dtype=uint16))]],\n",
       "      dtype=[('x', 'O'), ('y', 'O')])),\n",
       "        (array([[8.73336224]]), array([[(array([[526]], dtype=uint16), array([[503]], dtype=uint16))]],\n",
       "      dtype=[('x', 'O'), ('y', 'O')]))]],\n",
       "      dtype=[('scale', 'O'), ('objpos', 'O')]), array([], shape=(1, 0), dtype=float64), array([], shape=(1, 0), dtype=float64))]],\n",
       "      dtype=[('image', 'O'), ('annorect', 'O'), ('frame_sec', 'O'), ('vididx', 'O')])"
      ]
     },
     "execution_count": 19,
     "metadata": {},
     "output_type": "execute_result"
    }
   ],
   "source": [
    "x['RELEASE']['annolist'][0,0]"
   ]
  },
  {
   "cell_type": "code",
   "execution_count": 14,
   "metadata": {},
   "outputs": [
    {
     "data": {
      "text/plain": [
       "('image', 'annorect', 'frame_sec', 'vididx')"
      ]
     },
     "execution_count": 14,
     "metadata": {},
     "output_type": "execute_result"
    }
   ],
   "source": [
    "x['RELEASE']['annolist'][0,0].dtype.names"
   ]
  },
  {
   "cell_type": "code",
   "execution_count": 10,
   "metadata": {},
   "outputs": [
    {
     "data": {
      "text/plain": [
       "(1, 24987)"
      ]
     },
     "execution_count": 10,
     "metadata": {},
     "output_type": "execute_result"
    }
   ],
   "source": [
    "x['RELEASE']['annolist'][0,0].shape"
   ]
  },
  {
   "cell_type": "code",
   "execution_count": 18,
   "metadata": {},
   "outputs": [
    {
     "data": {
      "text/plain": [
       "dtype([('image', 'O'), ('annorect', 'O'), ('frame_sec', 'O'), ('vididx', 'O')])"
      ]
     },
     "execution_count": 18,
     "metadata": {},
     "output_type": "execute_result"
    }
   ],
   "source": [
    "x['RELEASE']['annolist'][0,0].dtype"
   ]
  },
  {
   "cell_type": "code",
   "execution_count": 20,
   "metadata": {},
   "outputs": [
    {
     "data": {
      "text/plain": [
       "array([[array([[(array([[3.88073395]]), array([[(array([[601]], dtype=uint16), array([[380]], dtype=uint16))]],\n",
       "      dtype=[('x', 'O'), ('y', 'O')]))]],\n",
       "      dtype=[('scale', 'O'), ('objpos', 'O')]),\n",
       "        array([[(array([[8.07816613]]), array([[(array([[881]], dtype=uint16), array([[394]], dtype=uint16))]],\n",
       "      dtype=[('x', 'O'), ('y', 'O')])),\n",
       "        (array([[8.90412938]]), array([[(array([[338]], dtype=uint16), array([[210]], dtype=uint8))]],\n",
       "      dtype=[('x', 'O'), ('y', 'O')]))]],\n",
       "      dtype=[('scale', 'O'), ('objpos', 'O')]),\n",
       "        array([[(array([[4.32666153]]), array([[(array([[619]], dtype=uint16), array([[350]], dtype=uint16))]],\n",
       "      dtype=[('x', 'O'), ('y', 'O')]))]],\n",
       "      dtype=[('scale', 'O'), ('objpos', 'O')]),\n",
       "        ...,\n",
       "        array([[(array([[287]], dtype=uint16), array([[130]], dtype=uint8), array([[324]], dtype=uint16), array([[163]], dtype=uint8), array([[(array([[(array([[334]], dtype=uint16), array([[225]], dtype=uint8), array([[6]], dtype=uint8), array([[1]], dtype=uint8)),\n",
       "        (array([[312]], dtype=uint16), array([[173]], dtype=uint8), array([[7]], dtype=uint8), array([[1]], dtype=uint8)),\n",
       "        (array([[310.2242]]), array([[165.7604]]), array([[8]], dtype=uint8), array([], shape=(0, 0), dtype=uint8)),\n",
       "        (array([[300.7758]]), array([[127.2396]]), array([[9]], dtype=uint8), array([], shape=(0, 0), dtype=uint8)),\n",
       "        (array([[362]], dtype=uint16), array([[350]], dtype=uint16), array([[0]], dtype=uint8), array([[1]], dtype=uint8)),\n",
       "        (array([[347]], dtype=uint16), array([[297]], dtype=uint16), array([[1]], dtype=uint8), array([[1]], dtype=uint8)),\n",
       "        (array([[350]], dtype=uint16), array([[224]], dtype=uint8), array([[2]], dtype=uint8), array([[1]], dtype=uint8)),\n",
       "        (array([[317]], dtype=uint16), array([[226]], dtype=uint8), array([[3]], dtype=uint8), array([[1]], dtype=uint8)),\n",
       "        (array([[297]], dtype=uint16), array([[290]], dtype=uint16), array([[4]], dtype=uint8), array([[0]], dtype=uint8)),\n",
       "        (array([[336]], dtype=uint16), array([[312]], dtype=uint16), array([[5]], dtype=uint8), array([[1]], dtype=uint8)),\n",
       "        (array([[310]], dtype=uint16), array([[192]], dtype=uint8), array([[10]], dtype=uint8), array([[0]], dtype=uint8)),\n",
       "        (array([[326]], dtype=uint16), array([[186]], dtype=uint8), array([[11]], dtype=uint8), array([[0]], dtype=uint8)),\n",
       "        (array([[335]], dtype=uint16), array([[168]], dtype=uint8), array([[12]], dtype=uint8), array([[1]], dtype=uint8)),\n",
       "        (array([[288]], dtype=uint16), array([[177]], dtype=uint8), array([[13]], dtype=uint8), array([[1]], dtype=uint8)),\n",
       "        (array([[279]], dtype=uint16), array([[199]], dtype=uint8), array([[14]], dtype=uint8), array([[0]], dtype=uint8)),\n",
       "        (array([[268]], dtype=uint16), array([[194]], dtype=uint8), array([[15]], dtype=uint8), array([[0]], dtype=uint8))]],\n",
       "      dtype=[('x', 'O'), ('y', 'O'), ('id', 'O'), ('is_visible', 'O')]),)]],\n",
       "      dtype=[('point', 'O')]), array([[1.1898773]]), array([[(array([[330]], dtype=uint16), array([[208]], dtype=uint8))]],\n",
       "      dtype=[('x', 'O'), ('y', 'O')])),\n",
       "        (array([[333]], dtype=uint16), array([[137]], dtype=uint8), array([[361]], dtype=uint16), array([[162]], dtype=uint8), array([[(array([[(array([[391]], dtype=uint16), array([[221]], dtype=uint8), array([[6]], dtype=uint8), array([[1]], dtype=uint8)),\n",
       "        (array([[365]], dtype=uint16), array([[172]], dtype=uint8), array([[7]], dtype=uint8), array([[0]], dtype=uint8)),\n",
       "        (array([[356.3796]]), array([[161.2245]]), array([[8]], dtype=uint8), array([], shape=(0, 0), dtype=uint8)),\n",
       "        (array([[337.6204]]), array([[137.7755]]), array([[9]], dtype=uint8), array([], shape=(0, 0), dtype=uint8)),\n",
       "        (array([[457]], dtype=uint16), array([[324]], dtype=uint16), array([[0]], dtype=uint8), array([[1]], dtype=uint8)),\n",
       "        (array([[420]], dtype=uint16), array([[282]], dtype=uint16), array([[1]], dtype=uint8), array([[1]], dtype=uint8)),\n",
       "        (array([[403]], dtype=uint16), array([[219]], dtype=uint8), array([[2]], dtype=uint8), array([[1]], dtype=uint8)),\n",
       "        (array([[379]], dtype=uint16), array([[222]], dtype=uint8), array([[3]], dtype=uint8), array([[1]], dtype=uint8)),\n",
       "        (array([[355]], dtype=uint16), array([[267]], dtype=uint16), array([[4]], dtype=uint8), array([[0]], dtype=uint8)),\n",
       "        (array([[379]], dtype=uint16), array([[314]], dtype=uint16), array([[5]], dtype=uint8), array([[1]], dtype=uint8)),\n",
       "        (array([[356]], dtype=uint16), array([[182]], dtype=uint8), array([[10]], dtype=uint8), array([[0]], dtype=uint8)),\n",
       "        (array([[373]], dtype=uint16), array([[186]], dtype=uint8), array([[11]], dtype=uint8), array([[0]], dtype=uint8)),\n",
       "        (array([[380]], dtype=uint16), array([[172]], dtype=uint8), array([[12]], dtype=uint8), array([[0]], dtype=uint8)),\n",
       "        (array([[349]], dtype=uint16), array([[171]], dtype=uint8), array([[13]], dtype=uint8), array([[1]], dtype=uint8)),\n",
       "        (array([[334]], dtype=uint16), array([[193]], dtype=uint8), array([[14]], dtype=uint8), array([[0]], dtype=uint8)),\n",
       "        (array([[319]], dtype=uint16), array([[194]], dtype=uint8), array([[15]], dtype=uint8), array([[0]], dtype=uint8))]],\n",
       "      dtype=[('x', 'O'), ('y', 'O'), ('id', 'O'), ('is_visible', 'O')]),)]],\n",
       "      dtype=[('point', 'O')]), array([[0.90087957]]), array([[(array([[372]], dtype=uint16), array([[216]], dtype=uint8))]],\n",
       "      dtype=[('x', 'O'), ('y', 'O')])),\n",
       "        (array([[400]], dtype=uint16), array([[140]], dtype=uint8), array([[428]], dtype=uint16), array([[168]], dtype=uint8), array([[(array([[(array([[459]], dtype=uint16), array([[224]], dtype=uint8), array([[6]], dtype=uint8), array([[1]], dtype=uint8)),\n",
       "        (array([[418]], dtype=uint16), array([[177]], dtype=uint8), array([[7]], dtype=uint8), array([[0]], dtype=uint8)),\n",
       "        (array([[416.7139]]), array([[169.605]]), array([[8]], dtype=uint8), array([], shape=(0, 0), dtype=uint8)),\n",
       "        (array([[411.2861]]), array([[138.395]]), array([[9]], dtype=uint8), array([], shape=(0, 0), dtype=uint8)),\n",
       "        (array([[483]], dtype=uint16), array([[292]], dtype=uint16), array([[0]], dtype=uint8), array([[0]], dtype=uint8)),\n",
       "        (array([[442]], dtype=uint16), array([[259]], dtype=uint16), array([[1]], dtype=uint8), array([[0]], dtype=uint8)),\n",
       "        (array([[468]], dtype=uint16), array([[221]], dtype=uint8), array([[2]], dtype=uint8), array([[1]], dtype=uint8)),\n",
       "        (array([[449]], dtype=uint16), array([[226]], dtype=uint8), array([[3]], dtype=uint8), array([[1]], dtype=uint8)),\n",
       "        (array([[461]], dtype=uint16), array([[271]], dtype=uint16), array([[4]], dtype=uint8), array([[1]], dtype=uint8)),\n",
       "        (array([[500]], dtype=uint16), array([[315]], dtype=uint16), array([[5]], dtype=uint8), array([[1]], dtype=uint8)),\n",
       "        (array([[411]], dtype=uint16), array([[187]], dtype=uint8), array([[10]], dtype=uint8), array([[0]], dtype=uint8)),\n",
       "        (array([[427]], dtype=uint16), array([[193]], dtype=uint8), array([[11]], dtype=uint8), array([[0]], dtype=uint8)),\n",
       "        (array([[432]], dtype=uint16), array([[175]], dtype=uint8), array([[12]], dtype=uint8), array([[0]], dtype=uint8)),\n",
       "        (array([[403]], dtype=uint16), array([[179]], dtype=uint8), array([[13]], dtype=uint8), array([[1]], dtype=uint8)),\n",
       "        (array([[403]], dtype=uint16), array([[205]], dtype=uint8), array([[14]], dtype=uint8), array([[0]], dtype=uint8)),\n",
       "        (array([[386]], dtype=uint16), array([[198]], dtype=uint8), array([[15]], dtype=uint8), array([[0]], dtype=uint8))]],\n",
       "      dtype=[('x', 'O'), ('y', 'O'), ('id', 'O'), ('is_visible', 'O')]),)]],\n",
       "      dtype=[('point', 'O')]), array([[0.95035151]]), array([[(array([[437]], dtype=uint16), array([[207]], dtype=uint8))]],\n",
       "      dtype=[('x', 'O'), ('y', 'O')])),\n",
       "        (array([[212]], dtype=uint8), array([[153]], dtype=uint8), array([[244]], dtype=uint8), array([[173]], dtype=uint8), array([[(array([[(array([[263]], dtype=uint16), array([[225]], dtype=uint8), array([[6]], dtype=uint8), array([[1]], dtype=uint8)),\n",
       "        (array([[233]], dtype=uint8), array([[179]], dtype=uint8), array([[7]], dtype=uint8), array([[0]], dtype=uint8)),\n",
       "        (array([[232.5023]]), array([[177.4073]]), array([[8]], dtype=uint8), array([], shape=(0, 0), dtype=uint8)),\n",
       "        (array([[223.4977]]), array([[148.5927]]), array([[9]], dtype=uint8), array([], shape=(0, 0), dtype=uint8)),\n",
       "        (array([[280]], dtype=uint16), array([[287]], dtype=uint16), array([[1]], dtype=uint8), array([[1]], dtype=uint8)),\n",
       "        (array([[277]], dtype=uint16), array([[224]], dtype=uint8), array([[2]], dtype=uint8), array([[1]], dtype=uint8)),\n",
       "        (array([[248]], dtype=uint8), array([[225]], dtype=uint8), array([[3]], dtype=uint8), array([[1]], dtype=uint8)),\n",
       "        (array([[222]], dtype=uint8), array([[280]], dtype=uint16), array([[4]], dtype=uint8), array([[1]], dtype=uint8)),\n",
       "        (array([[237]], dtype=uint8), array([[192]], dtype=uint8), array([[10]], dtype=uint8), array([[0]], dtype=uint8)),\n",
       "        (array([[249]], dtype=uint8), array([[193]], dtype=uint8), array([[11]], dtype=uint8), array([[0]], dtype=uint8)),\n",
       "        (array([[251]], dtype=uint8), array([[178]], dtype=uint8), array([[12]], dtype=uint8), array([[0]], dtype=uint8)),\n",
       "        (array([[214]], dtype=uint8), array([[179]], dtype=uint8), array([[13]], dtype=uint8), array([[1]], dtype=uint8)),\n",
       "        (array([[190]], dtype=uint8), array([[202]], dtype=uint8), array([[14]], dtype=uint8), array([[1]], dtype=uint8)),\n",
       "        (array([[190]], dtype=uint8), array([[201]], dtype=uint8), array([[15]], dtype=uint8), array([[0]], dtype=uint8))]],\n",
       "      dtype=[('x', 'O'), ('y', 'O'), ('id', 'O'), ('is_visible', 'O')]),)]],\n",
       "      dtype=[('point', 'O')]), array([[0.90566219]]), array([[(array([[230]], dtype=uint8), array([[216]], dtype=uint8))]],\n",
       "      dtype=[('x', 'O'), ('y', 'O')])),\n",
       "        (array([[0]], dtype=uint8), array([[135]], dtype=uint8), array([[76]], dtype=uint8), array([[216]], dtype=uint8), array([[(array([[(array([[68]], dtype=uint8), array([[416]], dtype=uint16), array([[6]], dtype=uint8), array([[1]], dtype=uint8)),\n",
       "        (array([[107]], dtype=uint8), array([[413]], dtype=uint16), array([[2]], dtype=uint8), array([[1]], dtype=uint8)),\n",
       "        (array([[29]], dtype=uint8), array([[419]], dtype=uint16), array([[3]], dtype=uint8), array([[1]], dtype=uint8)),\n",
       "        (array([[167]], dtype=uint8), array([[342]], dtype=uint16), array([[10]], dtype=uint8), array([[1]], dtype=uint8)),\n",
       "        (array([[132]], dtype=uint8), array([[316]], dtype=uint16), array([[11]], dtype=uint8), array([[1]], dtype=uint8)),\n",
       "        (array([[91]], dtype=uint8), array([[237]], dtype=uint8), array([[12]], dtype=uint8), array([[1]], dtype=uint8))]],\n",
       "      dtype=[('x', 'O'), ('y', 'O'), ('id', 'O'), ('is_visible', 'O')]),)]],\n",
       "      dtype=[('point', 'O')]), array([[2.66572917]]), array([[(array([[62]], dtype=uint8), array([[338]], dtype=uint16))]],\n",
       "      dtype=[('x', 'O'), ('y', 'O')]))]],\n",
       "      dtype=[('x1', 'O'), ('y1', 'O'), ('x2', 'O'), ('y2', 'O'), ('annopoints', 'O'), ('scale', 'O'), ('objpos', 'O')]),\n",
       "        array([[(array([[9.88033684]]), array([[(array([[1224]], dtype=uint16), array([[553]], dtype=uint16))]],\n",
       "      dtype=[('x', 'O'), ('y', 'O')])),\n",
       "        (array([[8.61950903]]), array([[(array([[473]], dtype=uint16), array([[587]], dtype=uint16))]],\n",
       "      dtype=[('x', 'O'), ('y', 'O')]))]],\n",
       "      dtype=[('scale', 'O'), ('objpos', 'O')]),\n",
       "        array([[(array([[8.84412212]]), array([[(array([[1277]], dtype=uint16), array([[681]], dtype=uint16))]],\n",
       "      dtype=[('x', 'O'), ('y', 'O')])),\n",
       "        (array([[8.73336224]]), array([[(array([[526]], dtype=uint16), array([[503]], dtype=uint16))]],\n",
       "      dtype=[('x', 'O'), ('y', 'O')]))]],\n",
       "      dtype=[('scale', 'O'), ('objpos', 'O')])]], dtype=object)"
      ]
     },
     "execution_count": 20,
     "metadata": {},
     "output_type": "execute_result"
    }
   ],
   "source": [
    "x['RELEASE']['annolist'][0,0]['annorect']"
   ]
  },
  {
   "cell_type": "code",
   "execution_count": 26,
   "metadata": {},
   "outputs": [
    {
     "data": {
      "text/plain": [
       "dtype('O')"
      ]
     },
     "execution_count": 26,
     "metadata": {},
     "output_type": "execute_result"
    }
   ],
   "source": [
    "x['RELEASE']['annolist'][0,0]['annorect'][0].dtype"
   ]
  },
  {
   "cell_type": "code",
   "execution_count": null,
   "metadata": {},
   "outputs": [],
   "source": []
  }
 ],
 "metadata": {
  "kernelspec": {
   "display_name": "Python 3",
   "language": "python",
   "name": "python3"
  },
  "language_info": {
   "codemirror_mode": {
    "name": "ipython",
    "version": 3
   },
   "file_extension": ".py",
   "mimetype": "text/x-python",
   "name": "python",
   "nbconvert_exporter": "python",
   "pygments_lexer": "ipython3",
   "version": "3.5.2"
  }
 },
 "nbformat": 4,
 "nbformat_minor": 2
}
